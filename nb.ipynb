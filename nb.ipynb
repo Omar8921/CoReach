{
 "cells": [
  {
   "cell_type": "code",
   "execution_count": 10,
   "id": "6699e156",
   "metadata": {},
   "outputs": [],
   "source": [
    "import pandas as pd\n",
    "import numpy as np\n",
    "import joblib\n",
    "import matplotlib.pyplot as plt\n",
    "from sklearn.preprocessing import LabelEncoder\n",
    "from sklearn.svm import SVR\n",
    "from sklearn.metrics import mean_absolute_error, r2_score\n",
    "from sklearn.model_selection import train_test_split\n",
    "import seaborn as sns\n",
    "from sklearn.feature_selection import SelectFromModel"
   ]
  },
  {
   "cell_type": "code",
   "execution_count": null,
   "id": "0b59335c",
   "metadata": {},
   "outputs": [
    {
     "name": "stdout",
     "output_type": "stream",
     "text": [
      "float64\n"
     ]
    },
    {
     "name": "stderr",
     "output_type": "stream",
     "text": [
      "C:\\Users\\ramom\\AppData\\Local\\Temp\\ipykernel_32796\\401783485.py:1: DtypeWarning: Columns (13,15,24) have mixed types. Specify dtype option on import or set low_memory=False.\n",
      "  df = pd.read_csv(\"global_bleaching_environmental.csv\")\n"
     ]
    }
   ],
   "source": [
    "df = pd.read_csv(\"global_bleaching_environmental.csv\")\n",
    "\n",
    "model = SVR(kernel='rbf')\n",
    "\n",
    "df['Percent_Bleaching'] = pd.to_numeric(df['Percent_Bleaching'], errors='coerce')\n",
    "print(df[\"Percent_Bleaching\"].dtypes)\n",
    "\n",
    "numeric = df.select_dtypes(include=['int', 'float']).columns\n",
    "numeric_df = df[numeric]\n",
    "numeric_df = numeric_df.dropna()\n"
   ]
  },
  {
   "cell_type": "code",
   "execution_count": 42,
   "id": "39807279",
   "metadata": {},
   "outputs": [],
   "source": [
    "y = numeric_df['Percent_Bleaching']\n",
    "X = numeric_df.drop(columns=['Percent_Bleaching', \"Sample_ID\", \"Site_ID\"])\n",
    "X_train, X_test, y_train, y_test = train_test_split(X, y, test_size=0.2, random_state=42)\n"
   ]
  },
  {
   "cell_type": "code",
   "execution_count": 43,
   "id": "55e4d977",
   "metadata": {},
   "outputs": [],
   "source": [
    "model.fit(X_train, y_train)\n",
    "y_pred = model.predict(X_test)\n",
    "r2 = r2_score(y_test,y_pred)"
   ]
  },
  {
   "cell_type": "code",
   "execution_count": 44,
   "id": "58e98297",
   "metadata": {},
   "outputs": [
    {
     "data": {
      "text/plain": [
       "-0.1674557295574972"
      ]
     },
     "execution_count": 44,
     "metadata": {},
     "output_type": "execute_result"
    }
   ],
   "source": [
    "r2"
   ]
  },
  {
   "cell_type": "code",
   "execution_count": 45,
   "id": "c6c31c7d",
   "metadata": {},
   "outputs": [
    {
     "name": "stdout",
     "output_type": "stream",
     "text": [
      "<class 'pandas.core.frame.DataFrame'>\n",
      "Index: 27612 entries, 30567 to 16325\n",
      "Data columns (total 6 columns):\n",
      " #   Column             Non-Null Count  Dtype  \n",
      "---  ------             --------------  -----  \n",
      " 0   Latitude_Degrees   27612 non-null  float64\n",
      " 1   Longitude_Degrees  27612 non-null  float64\n",
      " 2   Cyclone_Frequency  27612 non-null  float64\n",
      " 3   Date_Day           27612 non-null  int64  \n",
      " 4   Date_Month         27612 non-null  int64  \n",
      " 5   Date_Year          27612 non-null  int64  \n",
      "dtypes: float64(3), int64(3)\n",
      "memory usage: 1.5 MB\n"
     ]
    }
   ],
   "source": [
    "X_train.info()"
   ]
  },
  {
   "cell_type": "code",
   "execution_count": null,
   "id": "5a91191e",
   "metadata": {},
   "outputs": [],
   "source": [
    "def userInput(lat, long, freq, day, month, year):\n",
    "    input_dict = {\n",
    "        \"Latitude_Degrees\":lat,\n",
    "        \"Longitude_Degrees\":long,\n",
    "        \"Cyclone_Frequency\":freq,\n",
    "        \"Date_Day\":day,\n",
    "        \"Date_Month\":month,\n",
    "        \"Date_Year\":year,\n",
    "        }\n",
    "    input_df = pd.DataFrame([input_dict])\n",
    "    return input_df\n",
    "def modelPredict(input):\n",
    "    return model.predict(input)\n"
   ]
  },
  {
   "cell_type": "code",
   "execution_count": 57,
   "id": "f5174e39",
   "metadata": {},
   "outputs": [
    {
     "data": {
      "text/plain": [
       "['finalModel.joblib']"
      ]
     },
     "execution_count": 57,
     "metadata": {},
     "output_type": "execute_result"
    }
   ],
   "source": [
    "import joblib\n",
    "joblib.dump(model, 'finalModel.joblib')"
   ]
  }
 ],
 "metadata": {
  "kernelspec": {
   "display_name": ".venv",
   "language": "python",
   "name": "python3"
  },
  "language_info": {
   "codemirror_mode": {
    "name": "ipython",
    "version": 3
   },
   "file_extension": ".py",
   "mimetype": "text/x-python",
   "name": "python",
   "nbconvert_exporter": "python",
   "pygments_lexer": "ipython3",
   "version": "3.12.9"
  }
 },
 "nbformat": 4,
 "nbformat_minor": 5
}
